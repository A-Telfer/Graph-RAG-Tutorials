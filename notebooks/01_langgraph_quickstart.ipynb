{
 "cells": [
  {
   "cell_type": "markdown",
   "metadata": {},
   "source": [
    "# Langgraph Quickstart"
   ]
  },
  {
   "cell_type": "markdown",
   "metadata": {},
   "source": [
    "## Setup"
   ]
  },
  {
   "cell_type": "code",
   "execution_count": 1,
   "metadata": {},
   "outputs": [],
   "source": [
    "import os\n",
    "from dotenv import load_dotenv\n",
    "\n",
    "load_dotenv()\n",
    "\n",
    "assert 'GOOGLE_API_KEY' in os.environ"
   ]
  },
  {
   "cell_type": "markdown",
   "metadata": {},
   "source": [
    "## Defining an Execution Graph"
   ]
  },
  {
   "cell_type": "code",
   "execution_count": 2,
   "metadata": {},
   "outputs": [
    {
     "name": "stderr",
     "output_type": "stream",
     "text": [
      "2025-07-29 12:25:13,694 - INFO - Hello, world!\n"
     ]
    }
   ],
   "source": [
    "import logging\n",
    "\n",
    "logging.basicConfig(level=logging.INFO, format=\"%(asctime)s - %(levelname)s - %(message)s\")\n",
    "logger = logging.getLogger(\"langgraph_quickstart\")\n",
    "\n",
    "logger.info(\"Hello, world!\")"
   ]
  },
  {
   "cell_type": "code",
   "execution_count": 3,
   "metadata": {},
   "outputs": [
    {
     "data": {
      "image/png": "[encoded data removed]",
      "text/plain": [
       "<langgraph.graph.state.CompiledStateGraph object at 0x106868d70>"
      ]
     },
     "execution_count": 3,
     "metadata": {},
     "output_type": "execute_result"
    }
   ],
   "source": [
    "import time \n",
    "\n",
    "from langgraph.graph import StateGraph, START, END\n",
    "from typing_extensions import TypedDict\n",
    "\n",
    "\n",
    "class State(TypedDict):\n",
    "    pass\n",
    "\n",
    "def node_a(state: State) -> State:\n",
    "    logger.info(\"Node A\")\n",
    "    return {}\n",
    "\n",
    "def node_b1(state: State) -> State:\n",
    "    logger.info(\"Node B1\")\n",
    "    time.sleep(1)\n",
    "    return {}\n",
    "\n",
    "def node_b2(state: State) -> State:\n",
    "    logger.info(\"Node B2\")\n",
    "    time.sleep(1)\n",
    "    return {}\n",
    "\n",
    "def node_c(state: State) -> State:\n",
    "    logger.info(\"Node C\")\n",
    "    return {}\n",
    "\n",
    "graph = StateGraph(state_schema=State)\n",
    "graph.add_node(\"a\", node_a)\n",
    "graph.add_node(\"b1\", node_b1)\n",
    "graph.add_node(\"b2\", node_b2)\n",
    "graph.add_node(\"c\", node_c)\n",
    "graph.add_edge(START, \"a\")\n",
    "graph.add_edge(\"a\", \"b1\")\n",
    "graph.add_edge(\"a\", \"b2\")\n",
    "graph.add_edge(\"b1\", \"c\")\n",
    "graph.add_edge(\"b2\", \"c\")\n",
    "graph.add_edge(\"c\", END)\n",
    "\n",
    "\n",
    "compiled_graph = graph.compile()\n",
    "compiled_graph"
   ]
  },
  {
   "cell_type": "code",
   "execution_count": 4,
   "metadata": {},
   "outputs": [
    {
     "name": "stderr",
     "output_type": "stream",
     "text": [
      "2025-07-29 12:25:14,246 - INFO - Node A\n",
      "2025-07-29 12:25:14,247 - INFO - Node B2\n",
      "2025-07-29 12:25:14,247 - INFO - Node B1\n",
      "2025-07-29 12:25:15,256 - INFO - Node C\n"
     ]
    }
   ],
   "source": [
    "compiled_graph.invoke(input={})"
   ]
  },
  {
   "cell_type": "markdown",
   "metadata": {},
   "source": [
    "## Modifying State\n",
    "Update state with 'Command'\n"
   ]
  },
  {
   "cell_type": "code",
   "execution_count": 5,
   "metadata": {},
   "outputs": [
    {
     "data": {
      "image/png": "[encoded data removed]",
      "text/plain": [
       "<langgraph.graph.state.CompiledStateGraph object at 0x1068aec10>"
      ]
     },
     "execution_count": 5,
     "metadata": {},
     "output_type": "execute_result"
    }
   ],
   "source": [
    "from typing_extensions import TypedDict\n",
    "from langgraph.types import Command\n",
    "\n",
    "class State(TypedDict):\n",
    "    x: int\n",
    "\n",
    "def square(state: State) -> str:\n",
    "    return Command(update={\"x\": state[\"x\"] ** 2})\n",
    "\n",
    "def add_one(state: State) -> str:\n",
    "    return Command(update={\"x\": state[\"x\"] + 1})\n",
    "\n",
    "graph = StateGraph(state_schema=State)\n",
    "graph.add_node(\"square\", square)\n",
    "graph.add_node(\"add_one\", add_one)\n",
    "\n",
    "graph.add_edge(START, \"square\")\n",
    "graph.add_edge(\"square\", \"add_one\")\n",
    "graph.add_edge(\"add_one\", END)\n",
    "\n",
    "compiled_graph = graph.compile()\n",
    "compiled_graph"
   ]
  },
  {
   "cell_type": "code",
   "execution_count": 6,
   "metadata": {},
   "outputs": [
    {
     "data": {
      "text/plain": [
       "{'x': 5}"
      ]
     },
     "execution_count": 6,
     "metadata": {},
     "output_type": "execute_result"
    }
   ],
   "source": [
    "compiled_graph.invoke({\"x\": 2})"
   ]
  },
  {
   "cell_type": "code",
   "execution_count": 7,
   "metadata": {},
   "outputs": [
    {
     "data": {
      "text/plain": [
       "{'x': 10}"
      ]
     },
     "execution_count": 7,
     "metadata": {},
     "output_type": "execute_result"
    }
   ],
   "source": [
    "compiled_graph.invoke({\"x\": 3})"
   ]
  },
  {
   "cell_type": "markdown",
   "metadata": {},
   "source": [
    "## Adding Memory"
   ]
  },
  {
   "cell_type": "code",
   "execution_count": 8,
   "metadata": {},
   "outputs": [
    {
     "name": "stderr",
     "output_type": "stream",
     "text": [
      "2025-07-29 12:25:15,470 - INFO - Node A\n",
      "2025-07-29 12:25:15,471 - INFO - Node B: 1\n"
     ]
    }
   ],
   "source": [
    "from langgraph.store.memory import InMemoryStore\n",
    "\n",
    "store = InMemoryStore()\n",
    "\n",
    "class State(TypedDict):\n",
    "    pass\n",
    "\n",
    "def node_a(state: State) -> State:\n",
    "    namespace=(\"a\",)\n",
    "\n",
    "    store.put(namespace, \"a\", 1)\n",
    "    logger.info(\"Node A\")\n",
    "    return {}\n",
    "\n",
    "def node_b(state: State) -> State:\n",
    "    namespace=(\"a\",)\n",
    "    store.put(namespace, \"a\", 1)\n",
    "    logger.info(f\"Node B: {store.get(namespace, \"a\").value}\")\n",
    "    return {}\n",
    "\n",
    "graph = StateGraph(state_schema=State)\n",
    "graph.add_node(\"a\", node_a)\n",
    "graph.add_node(\"b\", node_b)\n",
    "graph.add_edge(START, \"a\")\n",
    "graph.add_edge(\"a\", \"b\")\n",
    "graph.add_edge(\"b\", END)\n",
    "\n",
    "compiled_graph = graph.compile(store=store)\n",
    "compiled_graph.invoke(\n",
    "    input={},\n",
    "    config={\"thread_id\": \"1\"}\n",
    ")"
   ]
  },
  {
   "cell_type": "markdown",
   "metadata": {},
   "source": [
    "## Routing"
   ]
  },
  {
   "cell_type": "code",
   "execution_count": 9,
   "metadata": {},
   "outputs": [
    {
     "data": {
      "image/png": "[encoded data removed]",
      "text/plain": [
       "<langgraph.graph.state.CompiledStateGraph object at 0x10684b820>"
      ]
     },
     "execution_count": 9,
     "metadata": {},
     "output_type": "execute_result"
    }
   ],
   "source": [
    "\n",
    "class State(TypedDict):\n",
    "    flag: bool = False\n",
    "\n",
    "def node_a(state: State) -> State:\n",
    "    logger.info(\"Node A\")\n",
    "    return state\n",
    "\n",
    "def node_b1(state: State) -> State:\n",
    "    logger.info(\"Node B1\")\n",
    "    return {'flag': True}\n",
    "\n",
    "def node_b2(state: State) -> State:\n",
    "    logger.info(\"Node B2\")\n",
    "    return state\n",
    "\n",
    "def route_node_a(state: State) -> str:\n",
    "    return \"b1\" if not state[\"flag\"] else \"b2\"\n",
    "    \n",
    "graph = StateGraph(state_schema=State)\n",
    "graph.add_node(\"a\", node_a)\n",
    "graph.add_node(\"b1\", node_b1)\n",
    "graph.add_node(\"b2\", node_b2)\n",
    "\n",
    "graph.add_edge(START, \"a\")\n",
    "graph.add_conditional_edges(\"a\", route_node_a, {'b1': 'b1', 'b2': 'b2'})\n",
    "graph.add_edge(\"b1\", \"a\")\n",
    "graph.add_edge(\"b2\", END)\n",
    "\n",
    "compiled_graph = graph.compile()\n",
    "compiled_graph"
   ]
  },
  {
   "cell_type": "code",
   "execution_count": 10,
   "metadata": {},
   "outputs": [
    {
     "name": "stderr",
     "output_type": "stream",
     "text": [
      "2025-07-29 12:25:15,613 - INFO - Node A\n",
      "2025-07-29 12:25:15,616 - INFO - Node B1\n",
      "2025-07-29 12:25:15,617 - INFO - Node A\n",
      "2025-07-29 12:25:15,618 - INFO - Node B2\n"
     ]
    },
    {
     "data": {
      "text/plain": [
       "{'flag': True}"
      ]
     },
     "execution_count": 10,
     "metadata": {},
     "output_type": "execute_result"
    }
   ],
   "source": [
    "compiled_graph.invoke(input={'flag': False})"
   ]
  }
 ],
 "metadata": {
  "kernelspec": {
   "display_name": ".venv",
   "language": "python",
   "name": "python3"
  },
  "language_info": {
   "codemirror_mode": {
    "name": "ipython",
    "version": 3
   },
   "file_extension": ".py",
   "mimetype": "text/x-python",
   "name": "python",
   "nbconvert_exporter": "python",
   "pygments_lexer": "ipython3",
   "version": "3.13.3"
  }
 },
 "nbformat": 4,
 "nbformat_minor": 2
}
