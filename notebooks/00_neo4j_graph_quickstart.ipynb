{
 "cells": [
  {
   "cell_type": "markdown",
   "metadata": {},
   "source": [
    "# "
   ]
  },
  {
   "cell_type": "markdown",
   "metadata": {},
   "source": [
    "# Neo4j Graph Quickstart"
   ]
  },
  {
   "cell_type": "markdown",
   "metadata": {},
   "source": [
    "## Connecting\n",
    "Connect to the local neo4j container"
   ]
  },
  {
   "cell_type": "code",
   "execution_count": 1,
   "metadata": {},
   "outputs": [],
   "source": [
    "import os\n",
    "from dotenv import load_dotenv\n",
    "\n",
    "load_dotenv(\"../.env\")\n",
    "\n",
    "# Defaults\n",
    "NEO4J_USER = \"neo4j\" \n",
    "NEO4J_HOST = \"127.0.0.1\"\n",
    "\n",
    "# Configurable\n",
    "NEO4J_BROWSER_PORT = os.getenv(\"NEO4J_BROWSER_PORT\")\n",
    "NEO4J_BOLT_PORT = os.getenv(\"NEO4J_BOLT_PORT\")\n",
    "NEO4J_PASSWORD = os.getenv(\"NEO4J_PASSWORD\")"
   ]
  },
  {
   "cell_type": "code",
   "execution_count": 2,
   "metadata": {},
   "outputs": [],
   "source": [
    "from neo4j import GraphDatabase\n",
    "\n",
    "uri = f\"neo4j://{NEO4J_HOST}:{NEO4J_BOLT_PORT}\"\n",
    "driver = GraphDatabase.driver(uri, auth=(NEO4J_USER, NEO4J_PASSWORD))\n",
    "\n",
    "driver.verify_connectivity()"
   ]
  },
  {
   "cell_type": "markdown",
   "metadata": {},
   "source": [
    "## Clear Graph\n",
    "Start this notebook with a blankslate"
   ]
  },
  {
   "cell_type": "code",
   "execution_count": 3,
   "metadata": {},
   "outputs": [],
   "source": [
    "statement = \"\"\"\n",
    "MATCH (n) DETACH DELETE n\n",
    "\"\"\"\n",
    "\n",
    "results = driver.execute_query(statement)"
   ]
  },
  {
   "cell_type": "markdown",
   "metadata": {},
   "source": [
    "## Create Nodes\n",
    "Here is a data insert method"
   ]
  },
  {
   "cell_type": "code",
   "execution_count": 4,
   "metadata": {},
   "outputs": [],
   "source": [
    "# Create the Nodes\n",
    "statement = \"\"\"\n",
    "MERGE (:Person {name: 'Kenny'})\n",
    "MERGE (:Person {name: 'Kyle'})\n",
    "MERGE (:Person {name: 'Stan'})\n",
    "MERGE (:Person {name: 'Eric'})\n",
    "\"\"\"\n",
    "_ = driver.execute_query(statement)"
   ]
  },
  {
   "cell_type": "code",
   "execution_count": 5,
   "metadata": {},
   "outputs": [
    {
     "name": "stdout",
     "output_type": "stream",
     "text": [
      "Kenny\n",
      "Kyle\n",
      "Stan\n",
      "Eric\n"
     ]
    }
   ],
   "source": [
    "result = driver.execute_query(\"MATCH (n:Person) RETURN n.name as name\")\n",
    "for r in result.records:\n",
    "    print(r['name'])"
   ]
  },
  {
   "cell_type": "markdown",
   "metadata": {},
   "source": [
    "## Create Relationships\n",
    "Kenny has become friends with Kyle"
   ]
  },
  {
   "cell_type": "code",
   "execution_count": 6,
   "metadata": {},
   "outputs": [],
   "source": [
    "statement = \"\"\"\n",
    "MATCH (p1:Person {name: 'Kenny'})\n",
    "MATCH (p2:Person {name: 'Kyle'})\n",
    "MERGE (p1) -[:FRIEND]-> (p2)\n",
    "\"\"\"\n",
    "_ = driver.execute_query(statement)"
   ]
  },
  {
   "cell_type": "code",
   "execution_count": 7,
   "metadata": {},
   "outputs": [
    {
     "name": "stdout",
     "output_type": "stream",
     "text": [
      "Kenny is a FRIEND of Kyle\n"
     ]
    }
   ],
   "source": [
    "result = driver.execute_query(\"MATCH (p1:Person) -[f:FRIEND]-> (p2:Person) RETURN p1.name, f, p2.name\")\n",
    "for p1, f, p2 in result.records:\n",
    "    print(f\"{p1} is a {f.type} of {p2}\")"
   ]
  },
  {
   "cell_type": "markdown",
   "metadata": {},
   "source": [
    "## Updating\n",
    "Kyle and Kenny got in a fight, they are now enemies"
   ]
  },
  {
   "cell_type": "code",
   "execution_count": 8,
   "metadata": {},
   "outputs": [],
   "source": [
    "statement = \"\"\"\n",
    "MATCH (p1:Person {name: 'Kenny'}) -[f:FRIEND]-> (p2:Person {name: 'Kyle'})\n",
    "DELETE f\n",
    "MERGE (p1) -[:ENEMY]-> (p2)\n",
    "\"\"\"\n",
    "_ = driver.execute_query(statement)"
   ]
  },
  {
   "cell_type": "code",
   "execution_count": 9,
   "metadata": {},
   "outputs": [
    {
     "name": "stdout",
     "output_type": "stream",
     "text": [
      "Kenny is an ENEMY of Kyle\n"
     ]
    }
   ],
   "source": [
    "result = driver.execute_query(\"MATCH (p1:Person) -[f]-> (p2:Person) RETURN p1.name, f, p2.name\")\n",
    "for p1, f, p2 in result.records:\n",
    "    print(f\"{p1} is an {f.type} of {p2}\")"
   ]
  },
  {
   "cell_type": "markdown",
   "metadata": {},
   "source": [
    "## Vectors\n",
    "Vectors are useful for semantic searches \n",
    "\n",
    "Here is a vector example using a euclidian distance"
   ]
  },
  {
   "cell_type": "code",
   "execution_count": 10,
   "metadata": {},
   "outputs": [],
   "source": [
    "statement = \"\"\"\n",
    "MERGE (p1:Person {name: 'Kenny'}) SET p1.position = [1, 1]\n",
    "MERGE (p2:Person {name: 'Kyle'}) SET p2.position = [2, 1]\n",
    "MERGE (p3:Person {name: 'Stan'}) SET p3.position = [1, 2]\n",
    "MERGE (p4:Person {name: 'Eric'}) SET p4.position = [3, 3]\n",
    "\"\"\"\n",
    "_ = driver.execute_query(statement)"
   ]
  },
  {
   "cell_type": "code",
   "execution_count": 11,
   "metadata": {},
   "outputs": [],
   "source": [
    "statement = \"\"\"\n",
    "DROP INDEX position IF EXISTS\n",
    "\"\"\"\n",
    "_ = driver.execute_query(statement)\n",
    "\n",
    "statement = \"\"\"\n",
    "CREATE VECTOR INDEX position\n",
    "FOR (p:Person) ON p.position\n",
    "OPTIONS {indexConfig: {\n",
    " `vector.dimensions`: 2,\n",
    " `vector.similarity_function`: 'euclidean'\n",
    "}}\n",
    "\"\"\"\n",
    "_ = driver.execute_query(statement)"
   ]
  },
  {
   "cell_type": "code",
   "execution_count": 12,
   "metadata": {},
   "outputs": [
    {
     "name": "stdout",
     "output_type": "stream",
     "text": [
      "Stan 1.0\n",
      "Kyle 1.0\n",
      "Eric 2.8\n"
     ]
    }
   ],
   "source": [
    "import math\n",
    "\n",
    "statement = \"\"\"\n",
    "MATCH (p:Person {name: 'Kenny'})\n",
    "CALL db.index.vector.queryNodes('position', 4, p.position)\n",
    "YIELD node, score\n",
    "WHERE node <> p\n",
    "RETURN node.name as name, score\n",
    "\"\"\"\n",
    "\n",
    "result = driver.execute_query(statement)\n",
    "for r in result.records:\n",
    "    distance = math.sqrt(1/r['score']-1) # neo4j normalizes distance: 1/(1+distance)\n",
    "    print(r['name'], round(distance, 1))"
   ]
  },
  {
   "cell_type": "markdown",
   "metadata": {},
   "source": [
    "## Traversal"
   ]
  },
  {
   "cell_type": "code",
   "execution_count": 13,
   "metadata": {},
   "outputs": [],
   "source": [
    "statement = \"\"\"\n",
    "MATCH (p1:Person {name: 'Kenny'})\n",
    "MATCH (p2:Person {name: 'Stan'})\n",
    "MATCH (p3:Person {name: 'Kyle'})\n",
    "MATCH (p4:Person {name: 'Eric'})\n",
    "\n",
    "MERGE (p1)-[:FRIEND]->(p2)\n",
    "MERGE (p2)-[:FRIEND]->(p3)\n",
    "MERGE (p1)-[:FRIEND]->(p3)\n",
    "MERGE (p3)-[:ENEMIES]->(p4)\n",
    "MERGE (p4)-[:FRIEND]->(p1)\n",
    "MERGE (p4)-[:FRIEND]->(p2)\n",
    "\"\"\"\n",
    "result = driver.execute_query(statement)"
   ]
  },
  {
   "cell_type": "code",
   "execution_count": 14,
   "metadata": {},
   "outputs": [
    {
     "name": "stdout",
     "output_type": "stream",
     "text": [
      "Kenny\n",
      "- Kyle: ENEMY\n",
      "- Stan: FRIEND\n",
      "- Kyle: FRIEND\n",
      "  - Eric: ENEMIES\n",
      "    - Kenny: FRIEND\n",
      "    - Stan: FRIEND\n"
     ]
    }
   ],
   "source": [
    "def get_all_networked_nodes(driver, name):\n",
    "    statement = \"\"\"\n",
    "    MATCH (p:Person {name: $name})\n",
    "    MATCH (p)-[f]->(n)\n",
    "    RETURN n, f\n",
    "    \"\"\"\n",
    "    result = driver.execute_query(statement, parameters_={'name': name})\n",
    "    return result\n",
    "\n",
    "name = 'Kenny'\n",
    "print(name)\n",
    "for i in range(3):\n",
    "    for person in get_all_networked_nodes(driver, name).records:\n",
    "        print(' '*(i*2) + f\"- {person['n']['name']}: {person['f'].type}\")\n",
    "        name = person['n']['name']\n"
   ]
  },
  {
   "cell_type": "markdown",
   "metadata": {},
   "source": [
    "## Visualizing\n",
    "Neo4j offers a visualization tool here: http://127.0.0.1:7474/browser/\n",
    "\n",
    "![](../assets/neo4j_example_visualization.png)"
   ]
  },
  {
   "cell_type": "markdown",
   "metadata": {},
   "source": [
    "## Cleanup"
   ]
  },
  {
   "cell_type": "code",
   "execution_count": 15,
   "metadata": {},
   "outputs": [],
   "source": [
    "driver.close()"
   ]
  }
 ],
 "metadata": {
  "kernelspec": {
   "display_name": ".venv",
   "language": "python",
   "name": "python3"
  },
  "language_info": {
   "codemirror_mode": {
    "name": "ipython",
    "version": 3
   },
   "file_extension": ".py",
   "mimetype": "text/x-python",
   "name": "python",
   "nbconvert_exporter": "python",
   "pygments_lexer": "ipython3",
   "version": "3.13.3"
  }
 },
 "nbformat": 4,
 "nbformat_minor": 2
}
